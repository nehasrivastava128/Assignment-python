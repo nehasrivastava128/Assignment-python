{
 "cells": [
  {
   "cell_type": "code",
   "execution_count": 1,
   "id": "6ae0c7f7-7844-482c-9109-b4423293e786",
   "metadata": {},
   "outputs": [],
   "source": [
    "                               ##ASSIGNMENT NO.1\n",
    "    "
   ]
  },
  {
   "cell_type": "code",
   "execution_count": 3,
   "id": "561de087-4932-4177-bbd8-0beea0095b8e",
   "metadata": {},
   "outputs": [],
   "source": [
    "## Qno.- 1 Create one variable containing following type of data:\n",
    "##(i) string\n",
    "a=\" hello this is my first assignment of data science\""
   ]
  },
  {
   "cell_type": "code",
   "execution_count": 4,
   "id": "6b7d8e4d-3349-4f35-a331-5a1ef9cb0535",
   "metadata": {},
   "outputs": [
    {
     "data": {
      "text/plain": [
       "str"
      ]
     },
     "execution_count": 4,
     "metadata": {},
     "output_type": "execute_result"
    }
   ],
   "source": [
    "type(a)"
   ]
  },
  {
   "cell_type": "code",
   "execution_count": 1,
   "id": "7e68e373-9053-4ef4-9e6e-ce998687c5f1",
   "metadata": {},
   "outputs": [],
   "source": [
    "##(ii)-list \n",
    "l=[\"neha\",(2+23j),12.08,2,3,4,5,{2,9,8,6},[\"nehu\",1,4,5,(4+3j)]]"
   ]
  },
  {
   "cell_type": "code",
   "execution_count": 2,
   "id": "ae8d4eab-2dc4-439d-b5e8-e708e67349d2",
   "metadata": {},
   "outputs": [
    {
     "data": {
      "text/plain": [
       "list"
      ]
     },
     "execution_count": 2,
     "metadata": {},
     "output_type": "execute_result"
    }
   ],
   "source": [
    "type(l)"
   ]
  },
  {
   "cell_type": "code",
   "execution_count": 3,
   "id": "af72649e-3fdc-4c0c-a1b5-42d998e0477b",
   "metadata": {},
   "outputs": [],
   "source": [
    "##(iii)-float\n",
    "v=12.08"
   ]
  },
  {
   "cell_type": "code",
   "execution_count": 4,
   "id": "252f08a1-ef32-4bc4-976b-b5266fc56b85",
   "metadata": {},
   "outputs": [
    {
     "data": {
      "text/plain": [
       "float"
      ]
     },
     "execution_count": 4,
     "metadata": {},
     "output_type": "execute_result"
    }
   ],
   "source": [
    "type(v)"
   ]
  },
  {
   "cell_type": "code",
   "execution_count": 7,
   "id": "f9a1ad2d-9b2f-4753-9c0f-e56fa3ba85ea",
   "metadata": {},
   "outputs": [],
   "source": [
    "#(iv)-tuple\n",
    "t=(1,3,2,4,5,'muskan',12+23j)"
   ]
  },
  {
   "cell_type": "code",
   "execution_count": 8,
   "id": "25657a24-e341-4ff3-9916-0fcca4fbbf20",
   "metadata": {},
   "outputs": [
    {
     "data": {
      "text/plain": [
       "tuple"
      ]
     },
     "execution_count": 8,
     "metadata": {},
     "output_type": "execute_result"
    }
   ],
   "source": [
    "type(t)"
   ]
  },
  {
   "cell_type": "code",
   "execution_count": 12,
   "id": "04115bc9-556c-445b-9c33-e804580c5baf",
   "metadata": {},
   "outputs": [],
   "source": [
    "#Qno.- 2 Given are some following variables containing data:\n",
    "var1='neha'# this is string type of data "
   ]
  },
  {
   "cell_type": "code",
   "execution_count": 13,
   "id": "24805b0d-25bd-4a7b-931c-d727f50fead6",
   "metadata": {},
   "outputs": [
    {
     "data": {
      "text/plain": [
       "str"
      ]
     },
     "execution_count": 13,
     "metadata": {},
     "output_type": "execute_result"
    }
   ],
   "source": [
    "type(var1)"
   ]
  },
  {
   "cell_type": "code",
   "execution_count": 19,
   "id": "67d6e737-ccaa-47ac-aa5a-5db07ae883c5",
   "metadata": {},
   "outputs": [
    {
     "ename": "SyntaxError",
     "evalue": "invalid syntax (2690760519.py, line 1)",
     "output_type": "error",
     "traceback": [
      "\u001b[0;36m  Cell \u001b[0;32mIn[19], line 1\u001b[0;36m\u001b[0m\n\u001b[0;31m    var2='['DS','ML','Python']' #this is not any data type because of the syntax is wrong.\u001b[0m\n\u001b[0m            ^\u001b[0m\n\u001b[0;31mSyntaxError\u001b[0m\u001b[0;31m:\u001b[0m invalid syntax\n"
     ]
    }
   ],
   "source": [
    "var2='['DS','ML','Python']' #this is not any data type because of the syntax is wrong."
   ]
  },
  {
   "cell_type": "code",
   "execution_count": 18,
   "id": "dc54c536-dde7-4424-887d-b8f81818252b",
   "metadata": {},
   "outputs": [],
   "source": [
    "var3=['DS','ML','Python']#this is list data type!"
   ]
  },
  {
   "cell_type": "code",
   "execution_count": 17,
   "id": "1e474968-dc81-4d78-adfb-cd81ba2155f2",
   "metadata": {},
   "outputs": [
    {
     "data": {
      "text/plain": [
       "list"
      ]
     },
     "execution_count": 17,
     "metadata": {},
     "output_type": "execute_result"
    }
   ],
   "source": [
    "type(var3)"
   ]
  },
  {
   "cell_type": "code",
   "execution_count": 22,
   "id": "cf932406-f0f8-4d0d-b120-70550617f101",
   "metadata": {},
   "outputs": [],
   "source": [
    "var4=1 #this is int data type "
   ]
  },
  {
   "cell_type": "code",
   "execution_count": 21,
   "id": "1b9c2772-f197-4e62-a22b-31d2a3c6f074",
   "metadata": {},
   "outputs": [
    {
     "data": {
      "text/plain": [
       "int"
      ]
     },
     "execution_count": 21,
     "metadata": {},
     "output_type": "execute_result"
    }
   ],
   "source": [
    "type(var4)"
   ]
  },
  {
   "cell_type": "code",
   "execution_count": 23,
   "id": "e65f9ca2-1ed0-4c38-b5d7-e88a1e02589e",
   "metadata": {},
   "outputs": [],
   "source": [
    "#Qno.- 3 Explain the use of the following operators using an example:\n"
   ]
  },
  {
   "cell_type": "code",
   "execution_count": null,
   "id": "fb06622e-03a4-4e31-ade6-71300104c7a0",
   "metadata": {},
   "outputs": [],
   "source": [
    "# (i) - this is use to single line comment."
   ]
  },
  {
   "cell_type": "code",
   "execution_count": null,
   "id": "599ad3d1-2f8c-4cc5-aa81-ecdf06814a64",
   "metadata": {},
   "outputs": [],
   "source": [
    "# (ii) % - (to find the remainder of division of two number)."
   ]
  },
  {
   "cell_type": "code",
   "execution_count": null,
   "id": "d2d36eda-f44b-40a8-95dc-f7b9373552fd",
   "metadata": {},
   "outputs": [],
   "source": [
    "#  (iii) // - this is use to multiline comment.\n"
   ]
  },
  {
   "cell_type": "code",
   "execution_count": 1,
   "id": "4a9504fb-a2d7-48cd-89b5-e4d3a0c827f3",
   "metadata": {},
   "outputs": [
    {
     "name": "stdout",
     "output_type": "stream",
     "text": [
      "7\n",
      "<class 'int'>\n",
      "3\n",
      "<class 'int'>\n",
      "5\n",
      "<class 'int'>\n",
      "6\n",
      "<class 'int'>\n",
      "2\n",
      "<class 'int'>\n",
      "vaiha\n",
      "<class 'str'>\n",
      "{8, 20, 12, 5}\n",
      "<class 'set'>\n",
      "23.56\n",
      "<class 'float'>\n",
      "(2+3j)\n",
      "<class 'complex'>\n",
      "[2, 4, 6, 7, 'khushi', 36.45, (5+62j)]\n",
      "<class 'list'>\n"
     ]
    }
   ],
   "source": [
    "#Qno.-4 Create a list of length 10 of your choice containing multiple types of data.\n",
    "#using for loop print the element and its data type:-\n",
    "l=[ 7,3,5,6,2,\"vaiha\",{12,8,20,5},23.56,(2+3j),[2,4,6,7,'khushi',36.45,(5+62j)]]\n",
    "for i in l:\n",
    "    print(i)\n",
    "    print(type(i))"
   ]
  },
  {
   "cell_type": "code",
   "execution_count": null,
   "id": "cd4804ff-3acf-4001-91cd-ab2fbff2c784",
   "metadata": {},
   "outputs": [],
   "source": [
    "#Qno.5- Using a while loop,verify if the no.A is purely divisible by number B and if so then \n",
    "#how many times it can be divisible.\n"
   ]
  },
  {
   "cell_type": "code",
   "execution_count": 7,
   "id": "0c2aec23-06ba-4cca-a0f2-220b09050e32",
   "metadata": {},
   "outputs": [
    {
     "name": "stdin",
     "output_type": "stream",
     "text": [
      "Enter number A:  10\n",
      "Enter number B:  5\n"
     ]
    },
    {
     "name": "stdout",
     "output_type": "stream",
     "text": [
      "5 divides 2 times into 0.\n"
     ]
    }
   ],
   "source": [
    "A = int(input(\"Enter number A: \"))\n",
    "B = int(input(\"Enter number B: \"))\n",
    "\n",
    "if B == 0:\n",
    "    print(\"Number B cannot be zero.\")\n",
    "else:\n",
    "    count = 0\n",
    "    while A >= B:\n",
    "        A -= B\n",
    "        count += 1\n",
    "\n",
    "    if A == 0:\n",
    "        print(f\"{B} divides {count} times into {A}.\")\n",
    "    else:\n",
    "        print(f\"{B} does not divide evenly into {A}. Remainder: {A}\")"
   ]
  },
  {
   "cell_type": "code",
   "execution_count": null,
   "id": "3eca19bc-5bdf-486d-9b50-06b89d8505bc",
   "metadata": {},
   "outputs": [],
   "source": [
    "##Qno- 7 What do you understand about mutable and immutable data types? Give examples for both showing\n",
    "##this property.\n",
    "## mutuable - A mutable object can be changed after it is created.\n",
    "# Example-- Examples : List, Set, Dictionary\n",
    "## immutable-- An immutable object cannot be changed after it is created.\n",
    "# Example - : tuples, int, float, bool, frozenset."
   ]
  }
 ],
 "metadata": {
  "kernelspec": {
   "display_name": "Python 3 (ipykernel)",
   "language": "python",
   "name": "python3"
  },
  "language_info": {
   "codemirror_mode": {
    "name": "ipython",
    "version": 3
   },
   "file_extension": ".py",
   "mimetype": "text/x-python",
   "name": "python",
   "nbconvert_exporter": "python",
   "pygments_lexer": "ipython3",
   "version": "3.10.8"
  },
  "toc-autonumbering": true,
  "toc-showcode": true
 },
 "nbformat": 4,
 "nbformat_minor": 5
}
